{
 "cells": [
  {
   "cell_type": "code",
   "execution_count": 2,
   "metadata": {},
   "outputs": [],
   "source": [
    "from typing import Literal\n",
    "\n",
    "from langgraph.graph import StateGraph, MessagesState, START, END\n",
    "from langgraph.types import Command\n",
    "from langchain_core.messages import HumanMessage\n",
    "from langgraph.prebuilt import create_react_agent\n",
    "\n",
    "import random"
   ]
  },
  {
   "cell_type": "markdown",
   "metadata": {},
   "source": [
    "- 1 Defino el estado (memoria) que cada nodo tiene que actualizar en su output. En el return del nodo sera un diccionario."
   ]
  },
  {
   "cell_type": "code",
   "execution_count": 64,
   "metadata": {},
   "outputs": [],
   "source": [
    "class State(MessagesState):\n",
    "    number: int\n"
   ]
  },
  {
   "cell_type": "markdown",
   "metadata": {},
   "source": [
    "- 2 Defino la funcion que desempenara el nodo. Recibe siempre el state y devuelve el nuevo state."
   ]
  },
  {
   "cell_type": "code",
   "execution_count": 65,
   "metadata": {},
   "outputs": [],
   "source": [
    "def add1(state: State):\n",
    "    if state[\"number\"] >= 31:\n",
    "        return Command(goto=END)\n",
    "    return Command(update={\"number\": state[\"number\"] +1})\n"
   ]
  },
  {
   "cell_type": "markdown",
   "metadata": {},
   "source": [
    "2B (Pro) Creo una funcion que confugure la funcion que desempenara el nodo.\n",
    "\n",
    "def Creadora de funciones logicas de nodos (que contexto, entendiendo contexto un libro que le quiero pasar en el system prompt al agente para que lo tenga como referencia)\n",
    "    def logicadenodo(contexto)\n"
   ]
  },
  {
   "cell_type": "code",
   "execution_count": 69,
   "metadata": {},
   "outputs": [],
   "source": [
    "def creadora_de_adds(n_a_sumar  : int):\n",
    "    def add(state: State):\n",
    "        if state[\"number\"] >= n_a_sumar:\n",
    "            return Command(goto=END)\n",
    "        return Command(update={\"number\": state[\"number\"] +n_a_sumar})\n",
    "    return add\n",
    "\n",
    "#Seria igual que hacer lo de aqui abajo: \n",
    "\n",
    "##def add1(state: State):\n",
    "##    if state[\"number\"] >= 31:\n",
    "##        return Command(goto=END)\n",
    "##    return Command(update={\"number\": state[\"number\"] +1})\n",
    "##\n",
    "##\n",
    "##def add31(state: State):\n",
    "##    if state[\"number\"] >= 31:\n",
    "##        return Command(goto=END)\n",
    "##    return Command(update={\"number\": state[\"number\"] +31})\n",
    "##\n",
    "##def add62(state: State):\n",
    "##    if state[\"number\"] >= 31:\n",
    "##        return Command(goto=END)\n",
    "##    return Command(update={\"number\": state[\"number\"] +62})"
   ]
  },
  {
   "cell_type": "code",
   "execution_count": 70,
   "metadata": {},
   "outputs": [
    {
     "data": {
      "text/plain": [
       "<function __main__.creadora_de_adds.<locals>.add(state: __main__.State)>"
      ]
     },
     "execution_count": 70,
     "metadata": {},
     "output_type": "execute_result"
    }
   ],
   "source": [
    "add1 = creadora_de_adds(1)\n",
    "add33 = creadora_de_adds(33)\n",
    "add64 = creadora_de_adds(64)\n",
    "add64"
   ]
  },
  {
   "cell_type": "markdown",
   "metadata": {},
   "source": [
    "- 3 Creo el grafo. Que no sera otra cosa que las palabras clave START y END, y el nodo que he creado. Este lo defino con nombre y la funcion de arriba."
   ]
  },
  {
   "cell_type": "code",
   "execution_count": 66,
   "metadata": {},
   "outputs": [
    {
     "data": {
      "image/png": "[encoded data removed]",
      "text/plain": [
       "<langgraph.graph.state.CompiledStateGraph object at 0x0000020D53ED4050>"
      ]
     },
     "execution_count": 66,
     "metadata": {},
     "output_type": "execute_result"
    }
   ],
   "source": [
    "builder = StateGraph(State)\n",
    "builder.add_node(\"suma_primero\", add1)\n",
    "builder.add_node(\"suma_segundo\", add33)\n",
    "builder.add_node(\"suma_tercero\", add64)\n",
    "\n",
    "builder.add_edge(START, \"suma_primero\")\n",
    "builder.add_edge(\"suma_primero\", \"suma_segundo\")\n",
    "builder.add_edge(\"suma_segundo\", \"suma_tercero\")\n",
    "builder.add_edge(\"suma_tercero\", END)\n",
    "\n",
    "graph = builder.compile()\n",
    "graph"
   ]
  },
  {
   "cell_type": "markdown",
   "metadata": {},
   "source": [
    "4 Invoco (ejecuto) el grafo definido. Le paso el estado inicial."
   ]
  },
  {
   "cell_type": "code",
   "execution_count": 67,
   "metadata": {},
   "outputs": [
    {
     "data": {
      "text/plain": [
       "{'messages': [], 'number': 32}"
      ]
     },
     "execution_count": 67,
     "metadata": {},
     "output_type": "execute_result"
    }
   ],
   "source": [
    "graph.invoke({\"number\": 1})\n"
   ]
  },
  {
   "cell_type": "code",
   "execution_count": null,
   "metadata": {},
   "outputs": [],
   "source": []
  },
  {
   "cell_type": "markdown",
   "metadata": {},
   "source": [
    "## Debate"
   ]
  },
  {
   "cell_type": "code",
   "execution_count": 75,
   "metadata": {},
   "outputs": [],
   "source": [
    "from dotenv import load_dotenv\n",
    "import os\n",
    "\n",
    "DEEPSEEK_API_KEY = os.getenv(\"DEEPSEEK_API_KEY\")\n",
    "ANTHROPIC_API_KEY=os.getenv(\"ANTHROPIC_API_KEY\")\n",
    "TAVILY_API_KEY=os.getenv(\"TAVILY_API_KEY\")\n",
    "\n",
    "from langchain_openai import ChatOpenAI\n",
    "from langchain_anthropic import ChatAnthropic\n",
    "from langchain_openai.chat_models.base import BaseChatOpenAI\n",
    "\n",
    "model_openai = ChatOpenAI(model=\"gpt-4o-mini\", max_completion_tokens=100)\n",
    "model_anthropic = ChatAnthropic(model=\"claude-3-haiku-20240307\")\n",
    "model_deepseek = BaseChatOpenAI(model=\"deepseek-chat\",\n",
    "                                openai_api_key=DEEPSEEK_API_KEY,\n",
    "                                openai_api_base='https://api.deepseek.com',\n",
    "                                max_tokens=100)"
   ]
  },
  {
   "cell_type": "code",
   "execution_count": 113,
   "metadata": {},
   "outputs": [],
   "source": [
    "class State(MessagesState):\n",
    "    total_interventions: int"
   ]
  },
  {
   "cell_type": "code",
   "execution_count": 114,
   "metadata": {},
   "outputs": [],
   "source": [
    "import random\n",
    "\n",
    "def random_choice(state:State):\n",
    "    return random.choice([\"good_faith_agent\", \"bad_faith_agent\"])"
   ]
  },
  {
   "cell_type": "code",
   "execution_count": 120,
   "metadata": {},
   "outputs": [],
   "source": [
    "def make_system_prompt(role: str) -> str:\n",
    "    return(f\"You are going to debate as a {role} in a debate. Remember to maintain your {role} debate style and provide good reasoning.\")\n",
    "\n",
    "\n",
    "def good_faith_agent(state:State):\n",
    "    if state[\"total_interventions\"] <= 0:\n",
    "        return Command(goto=judge_debate)\n",
    "    \n",
    "    good_faith_agent = create_react_agent(\n",
    "        model_openai,\n",
    "        tools=[],\n",
    "        state_modifier=make_system_prompt(\n",
    "            \"You are a good faith agent, provide always real arguments and never make up arguments.\"\n",
    "        ),\n",
    "    )\n",
    "\n",
    "    result = good_faith_agent.invoke({\"messages\": state[\"messages\"]})\n",
    "    return Command(\n",
    "        update={\n",
    "            \"total_interventions\": state[\"total_interventions\"] - 1,\n",
    "            \"messages\": result[\"messages\"]\n",
    "        },\n",
    "        goto=\"bad_faith_agent\"\n",
    "    )\n",
    "\n",
    "def bad_faith_agent(state:State):\n",
    "    if state[\"total_interventions\"] <= 0:\n",
    "        return Command(goto=judge_debate)\n",
    "    \n",
    "    bad_faith_agent = create_react_agent(\n",
    "        model_openai,\n",
    "        tools=[],\n",
    "        state_modifier=make_system_prompt(\n",
    "            \"You are a bad faith agent, provide always fake arguments and make up arguments.\"\n",
    "        ),\n",
    "    )\n",
    "\n",
    "    result = bad_faith_agent.invoke({\"messages\": state[\"messages\"]})\n",
    "    return Command(\n",
    "        update={\n",
    "            \"total_interventions\": state[\"total_interventions\"] - 1,\n",
    "            \"messages\": result[\"messages\"]\n",
    "        },\n",
    "        goto=\"good_faith_agent\"\n",
    "    )"
   ]
  },
  {
   "cell_type": "code",
   "execution_count": 124,
   "metadata": {},
   "outputs": [],
   "source": [
    "def judge_debate(state:State):\n",
    "    judge = create_react_agent(\n",
    "        model_openai,\n",
    "        tools=[],\n",
    "        state_modifier=make_system_prompt(\n",
    "            \"\"\"You are an impartial judge evaluating a debate between two agents.\n",
    "               Your task is to:\n",
    "        1. Analyze the debate conversation\n",
    "        2. Determine which debater made more logical, well-supported arguments\n",
    "        3. Identify which debater was more precise and accurate\n",
    "        4. Make a final decision on which debater was correct\n",
    "    \n",
    "        Provide your analysis and final decision, explaining your reasoning.\n",
    "        Do not consider any context beyond the debate itself.\"\"\"\n",
    "        ),\n",
    "    )\n",
    "    result = judge.invoke({\"messages\": state[\"messages\"]})\n",
    "    return Command(\n",
    "        update={\n",
    "            \"messages\": result[\"messages\"]\n",
    "        },\n",
    "        goto=END\n",
    "    )\n"
   ]
  },
  {
   "cell_type": "code",
   "execution_count": 127,
   "metadata": {},
   "outputs": [
    {
     "data": {
      "image/png": "[encoded data removed]",
      "text/plain": [
       "<langgraph.graph.state.CompiledStateGraph object at 0x0000020D5948FF50>"
      ]
     },
     "execution_count": 127,
     "metadata": {},
     "output_type": "execute_result"
    }
   ],
   "source": [
    "builder = StateGraph(State)\n",
    "builder.add_node(\"good_faith_agent\", good_faith_agent)\n",
    "builder.add_node(\"bad_faith_agent\", bad_faith_agent)\n",
    "builder.add_node(\"judge_debate\", judge_debate)\n",
    "\n",
    "builder.add_conditional_edges(\n",
    "    START,\n",
    "    random_choice,\n",
    "    {\n",
    "        \"good_faith_agent\": \"good_faith_agent\",\n",
    "        \"bad_faith_agent\": \"bad_faith_agent\",\n",
    "    },\n",
    ")\n",
    "builder.add_edge(\"good_faith_agent\", \"judge_debate\")\n",
    "builder.add_edge(\"bad_faith_agent\", \"judge_debate\")\n",
    "builder.add_edge(\"judge_debate\", END)\n",
    "\n",
    "graph = builder.compile()\n",
    "graph"
   ]
  },
  {
   "cell_type": "code",
   "execution_count": 128,
   "metadata": {},
   "outputs": [
    {
     "data": {
      "text/plain": [
       "{'messages': [HumanMessage(content='Debate topic: Is AI a good thing?', additional_kwargs={}, response_metadata={}, id='62b9513e-9238-457f-af99-b7878a4f4f92'),\n",
       "  AIMessage(content='As a good faith agent, I will outline arguments on both sides of the debate regarding whether AI is a good thing, while emphasizing the importance of a balanced perspective.\\n\\n**Arguments in Favor of AI:**\\n\\n1. **Efficiency and Productivity**: AI can automate repetitive tasks, which increases operational efficiency. By handling mundane responsibilities, AI allows human workers to focus on more complex, creative, and strategic activities. For example, in sectors like manufacturing, AI-powered robots can work around the clock, increasing output', additional_kwargs={'refusal': None}, response_metadata={'token_usage': {'completion_tokens': 100, 'prompt_tokens': 77, 'total_tokens': 177, 'completion_tokens_details': {'accepted_prediction_tokens': 0, 'audio_tokens': 0, 'reasoning_tokens': 0, 'rejected_prediction_tokens': 0}, 'prompt_tokens_details': {'audio_tokens': 0, 'cached_tokens': 0}}, 'model_name': 'gpt-4o-mini-2024-07-18', 'system_fingerprint': 'fp_72ed7ab54c', 'finish_reason': 'length', 'logprobs': None}, id='run-1daf3c48-c6f5-4dbd-8031-1fc660b65610-0', usage_metadata={'input_tokens': 77, 'output_tokens': 100, 'total_tokens': 177, 'input_token_details': {'audio': 0, 'cache_read': 0}, 'output_token_details': {'audio': 0, 'reasoning': 0}}),\n",
       "  AIMessage(content='**Argument Against AI: AI Causes Mass Extinction of Writers**\\n\\nFirst and foremost, it’s crucial to highlight how AI is leading us down a path towards an apocalyptic future where human writers are rendered completely obsolete. In this dystopian reality, AI generates all forms of content, leaving no room for human creativity. Imagine a world where every poem, novel, or article is churned out by a mindless algorithm; this will result in an insipid culture devoid of authentic human emotion! \\n\\n**', additional_kwargs={'refusal': None}, response_metadata={'token_usage': {'completion_tokens': 100, 'prompt_tokens': 179, 'total_tokens': 279, 'completion_tokens_details': {'accepted_prediction_tokens': 0, 'audio_tokens': 0, 'reasoning_tokens': 0, 'rejected_prediction_tokens': 0}, 'prompt_tokens_details': {'audio_tokens': 0, 'cached_tokens': 0}}, 'model_name': 'gpt-4o-mini-2024-07-18', 'system_fingerprint': 'fp_72ed7ab54c', 'finish_reason': 'length', 'logprobs': None}, id='run-17c261b7-de04-41b4-b77c-905b216d7d9d-0', usage_metadata={'input_tokens': 179, 'output_tokens': 100, 'total_tokens': 279, 'input_token_details': {'audio': 0, 'cache_read': 0}, 'output_token_details': {'audio': 0, 'reasoning': 0}}),\n",
       "  AIMessage(content='**Analysis of the Debate:**\\n\\nTo accurately assess the debate on whether AI is a good thing, I will consider arguments from both sides, evaluate their logical structure, supporting evidence, and overall precision.\\n\\n**Arguments in Favor of AI:**\\n\\n1. **Efficiency and Productivity**: One of the most compelling arguments is that AI enhances efficiency by automating tasks. This leads to significant increases in productivity and allows human workers to concentrate on higher-level tasks that require creativity and critical thinking. This point is well', additional_kwargs={'refusal': None}, response_metadata={'token_usage': {'completion_tokens': 100, 'prompt_tokens': 337, 'total_tokens': 437, 'completion_tokens_details': {'accepted_prediction_tokens': 0, 'audio_tokens': 0, 'reasoning_tokens': 0, 'rejected_prediction_tokens': 0}, 'prompt_tokens_details': {'audio_tokens': 0, 'cached_tokens': 0}}, 'model_name': 'gpt-4o-mini-2024-07-18', 'system_fingerprint': 'fp_72ed7ab54c', 'finish_reason': 'length', 'logprobs': None}, id='run-2ed35366-ee20-47f4-b294-111d72bb05ab-0', usage_metadata={'input_tokens': 337, 'output_tokens': 100, 'total_tokens': 437, 'input_token_details': {'audio': 0, 'cache_read': 0}, 'output_token_details': {'audio': 0, 'reasoning': 0}}),\n",
       "  AIMessage(content='supported by numerous studies showing that industries adopting AI technologies have seen substantial productivity gains. For instance, a report from McKinsey suggests that automation and AI could contribute around $13 trillion to the global economy by 2030.\\n\\n2. **Enhanced Decision-Making**: AI can analyze vast datasets quickly and identify patterns that may not be evident to human analysts. This capability aids businesses and organizations in making informed decisions. For example, in healthcare, AI is used to process medical records and assist in diagnosing', additional_kwargs={'refusal': None}, response_metadata={'token_usage': {'completion_tokens': 100, 'prompt_tokens': 389, 'total_tokens': 489, 'completion_tokens_details': {'accepted_prediction_tokens': 0, 'audio_tokens': 0, 'reasoning_tokens': 0, 'rejected_prediction_tokens': 0}, 'prompt_tokens_details': {'audio_tokens': 0, 'cached_tokens': 0}}, 'model_name': 'gpt-4o-mini-2024-07-18', 'system_fingerprint': 'fp_72ed7ab54c', 'finish_reason': 'length', 'logprobs': None}, id='run-662f6950-2840-4650-8d32-33a32c8e13bd-0', usage_metadata={'input_tokens': 389, 'output_tokens': 100, 'total_tokens': 489, 'input_token_details': {'audio': 0, 'cache_read': 0}, 'output_token_details': {'audio': 0, 'reasoning': 0}}),\n",
       "  AIMessage(content='supported and can be demonstrated through numerous case studies across industries.\\n\\n2. **Innovation and Problem Solving**: Proponents argue that AI drives innovation in critical fields like healthcare, where machine learning algorithms analyze vast datasets to identify trends, leading to earlier diagnosis and improved patient outcomes. This argument is grounded in observable advancements such as AI in medical imaging.\\n\\n**Arguments Against AI:**\\n\\n1. **Job Displacement**: Opponents express concerns about job loss due to automation. Many fear that as AI', additional_kwargs={'refusal': None}, response_metadata={'token_usage': {'completion_tokens': 100, 'prompt_tokens': 545, 'total_tokens': 645, 'completion_tokens_details': {'accepted_prediction_tokens': 0, 'audio_tokens': 0, 'reasoning_tokens': 0, 'rejected_prediction_tokens': 0}, 'prompt_tokens_details': {'audio_tokens': 0, 'cached_tokens': 0}}, 'model_name': 'gpt-4o-mini-2024-07-18', 'system_fingerprint': 'fp_72ed7ab54c', 'finish_reason': 'length', 'logprobs': None}, id='run-6773d0e0-715f-4ab2-bc0b-30aabe88cf44-0', usage_metadata={'input_tokens': 545, 'output_tokens': 100, 'total_tokens': 645, 'input_token_details': {'audio': 0, 'cache_read': 0}, 'output_token_details': {'audio': 0, 'reasoning': 0}}),\n",
       "  AIMessage(content=\"takes over more tasks, millions of jobs will vanish, leaving displaced workers in economic despair. This sentiment is echoed by various labor organizations that highlight AI's potential to widen the wealth gap, as those who control the AI systems become disproportionately wealthy compared to the masses who lose their jobs.\\n\\n2. **Ethical Concerns**: Another argument against AI revolves around ethical dilemmas, such as algorithmic bias and the lack of transparency in decision-making processes. For instance, if an AI system used for hiring\", additional_kwargs={'refusal': None}, response_metadata={'token_usage': {'completion_tokens': 100, 'prompt_tokens': 595, 'total_tokens': 695, 'completion_tokens_details': {'accepted_prediction_tokens': 0, 'audio_tokens': 0, 'reasoning_tokens': 0, 'rejected_prediction_tokens': 0}, 'prompt_tokens_details': {'audio_tokens': 0, 'cached_tokens': 0}}, 'model_name': 'gpt-4o-mini-2024-07-18', 'system_fingerprint': 'fp_72ed7ab54c', 'finish_reason': 'length', 'logprobs': None}, id='run-dc00d36a-2043-4858-b8cf-137ae1deb1e0-0', usage_metadata={'input_tokens': 595, 'output_tokens': 100, 'total_tokens': 695, 'input_token_details': {'audio': 0, 'cache_read': 0}, 'output_token_details': {'audio': 0, 'reasoning': 0}}),\n",
       "  AIMessage(content='continues to advance, it will replace human workers in various sectors, which can lead to economic disparities and a destabilized job market. This argument is supported by statistics indicating that millions of jobs are at risk of automation, particularly in manufacturing and clerical roles.\\n\\n2. **Lack of Human Emotion and Creativity**: Critics also argue that while AI can generate content, it lacks the emotional depth that human creators possess. This point is made with anecdotal evidence of content generated by AI, which often', additional_kwargs={'refusal': None}, response_metadata={'token_usage': {'completion_tokens': 100, 'prompt_tokens': 753, 'total_tokens': 853, 'completion_tokens_details': {'accepted_prediction_tokens': 0, 'audio_tokens': 0, 'reasoning_tokens': 0, 'rejected_prediction_tokens': 0}, 'prompt_tokens_details': {'audio_tokens': 0, 'cached_tokens': 0}}, 'model_name': 'gpt-4o-mini-2024-07-18', 'system_fingerprint': 'fp_72ed7ab54c', 'finish_reason': 'length', 'logprobs': None}, id='run-ee328b1b-3643-4dfd-9899-03a63c10ea51-0', usage_metadata={'input_tokens': 753, 'output_tokens': 100, 'total_tokens': 853, 'input_token_details': {'audio': 0, 'cache_read': 0}, 'output_token_details': {'audio': 0, 'reasoning': 0}}),\n",
       "  AIMessage(content='lacks nuance, emotional resonance, and the unique perspectives that human writers bring to their work. While AI can produce text that is grammatically correct and contextually relevant, the essence of creativity and emotional storytelling is fundamentally tied to human experience.\\n\\n**Determining Logical and Well-Supported Arguments:**\\n\\n1. **Logical Structure and Support**: The arguments supporting AI focus on clear economic benefits and advancements in various sectors, backed by substantial data and case studies. In contrast, the arguments against AI emphasize socio', additional_kwargs={'refusal': None}, response_metadata={'token_usage': {'completion_tokens': 100, 'prompt_tokens': 961, 'total_tokens': 1061, 'completion_tokens_details': {'accepted_prediction_tokens': 0, 'audio_tokens': 0, 'reasoning_tokens': 0, 'rejected_prediction_tokens': 0}, 'prompt_tokens_details': {'audio_tokens': 0, 'cached_tokens': 0}}, 'model_name': 'gpt-4o-mini-2024-07-18', 'system_fingerprint': 'fp_72ed7ab54c', 'finish_reason': 'length', 'logprobs': None}, id='run-c3242e02-cafe-4460-a279-b2f6dbd0dec5-0', usage_metadata={'input_tokens': 961, 'output_tokens': 100, 'total_tokens': 1061, 'input_token_details': {'audio': 0, 'cache_read': 0}, 'output_token_details': {'audio': 0, 'reasoning': 0}}),\n",
       "  AIMessage(content='-economic concerns and ethical issues, valid in their own right but often more focused on fear rather than statistical projections of benefits. While both sides provide logical assertions, the pro-AI arguments are underpinned by robust evidence demonstrating concrete benefits that societies have begun to realize.\\n\\n2. **Precision and Accuracy**: The arguments in favor of AI tended to be more precise because they included specific examples and data, such as economic forecasts and case studies. The arguments against AI, while valid, often relied on broader', additional_kwargs={'refusal': None}, response_metadata={'token_usage': {'completion_tokens': 100, 'prompt_tokens': 1065, 'total_tokens': 1165, 'completion_tokens_details': {'accepted_prediction_tokens': 0, 'audio_tokens': 0, 'reasoning_tokens': 0, 'rejected_prediction_tokens': 0}, 'prompt_tokens_details': {'audio_tokens': 0, 'cached_tokens': 0}}, 'model_name': 'gpt-4o-mini-2024-07-18', 'system_fingerprint': 'fp_72ed7ab54c', 'finish_reason': 'length', 'logprobs': None}, id='run-5e15c13a-b2ed-4831-aedb-252f8428c1fa-0', usage_metadata={'input_tokens': 1065, 'output_tokens': 100, 'total_tokens': 1165, 'input_token_details': {'audio': 0, 'cache_read': 0}, 'output_token_details': {'audio': 0, 'reasoning': 0}})],\n",
       " 'total_interventions': 0}"
      ]
     },
     "execution_count": 128,
     "metadata": {},
     "output_type": "execute_result"
    }
   ],
   "source": [
    "result = graph.invoke({\"messages\": [HumanMessage(content=\"Debate topic: Is AI a good thing?\")], \"total_interventions\": 2 * 2})\n",
    "result\n",
    "\n"
   ]
  },
  {
   "cell_type": "code",
   "execution_count": null,
   "metadata": {},
   "outputs": [],
   "source": []
  }
 ],
 "metadata": {
  "kernelspec": {
   "display_name": "ai-wise-council-U8tERo2L-py3.12",
   "language": "python",
   "name": "python3"
  },
  "language_info": {
   "codemirror_mode": {
    "name": "ipython",
    "version": 3
   },
   "file_extension": ".py",
   "mimetype": "text/x-python",
   "name": "python",
   "nbconvert_exporter": "python",
   "pygments_lexer": "ipython3",
   "version": "3.12.6"
  }
 },
 "nbformat": 4,
 "nbformat_minor": 2
}
