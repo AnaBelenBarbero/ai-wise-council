{
 "cells": [
  {
   "cell_type": "code",
   "execution_count": 8,
   "metadata": {},
   "outputs": [],
   "source": [
    "from langchain_core.messages import HumanMessage\n",
    "\n",
    "from ai_wise_council.utils import State, SummarizerState, call_first_layer_model, call_second_layer_model, create_graph, model_openai, model_deepseek, model_anthropic\n",
    "from ai_wise_council.prompts import prompt_template_lawyer, prompt_template_social, prompt_template_summarizer\n",
    "\n",
    "query = \"Hola, me llamo Ana. Me gustaria saber que es la EU AI Act.\"\n",
    "language = \"Spanish\"\n",
    "config = {\"configurable\": {\"thread_id\": \"aaa123\"}}\n",
    "input_messages = [HumanMessage(query)]"
   ]
  },
  {
   "cell_type": "code",
   "execution_count": 4,
   "metadata": {},
   "outputs": [
    {
     "name": "stdout",
     "output_type": "stream",
     "text": [
      "Hola Ana,\n",
      "\n",
      "La **EU AI Act** o **Reglamento de Inteligencia Artificial de la Unión Europea** es un proyecto legislativo propuesto por la Comisión Europea con el objetivo de regular el uso y desarrollo de la inteligencia artificial (IA) dentro de los Estados miembros de la UE. A continuación, se presentan los aspectos más relevantes de este reglamento:\n",
      "\n",
      "### 1. **Objetivo del Reglamento**\n",
      "El principal objetivo del EU AI Act es garantizar que la inteligencia artificial sea utilizada de manera\n"
     ]
    }
   ],
   "source": [
    "output_lawyer = create_graph(State, call_first_layer_model).invoke({\n",
    "    \"messages\": input_messages, \n",
    "    \"language\": language,\n",
    "    \"prompt_template\": prompt_template_lawyer,\n",
    "    \"model_used\": model_openai,\n",
    "    }, \n",
    "config)\n",
    "print(output_lawyer[\"messages\"][-1].content)"
   ]
  },
  {
   "cell_type": "code",
   "execution_count": 5,
   "metadata": {},
   "outputs": [
    {
     "name": "stdout",
     "output_type": "stream",
     "text": [
      "Hola Ana,\n",
      "\n",
      "La **EU AI Act** o **Reglamento de Inteligencia Artificial de la Unión Europea** es un proyecto legislativo propuesto por la Comisión Europea con el objetivo de regular el uso y desarrollo de la inteligencia artificial (IA) dentro de los Estados miembros de la UE. A continuación, se presentan los aspectos más relevantes de este reglamento:\n",
      "\n",
      "### 1. **Objetivo del Reglamento**\n",
      "El principal objetivo del EU AI Act es garantizar que la inteligencia artificial sea utilizada de manera\n"
     ]
    }
   ],
   "source": [
    "output_social = create_graph(State, call_first_layer_model).invoke({\n",
    "    \"messages\": input_messages, \n",
    "    \"language\": language,\n",
    "    \"prompt_template\": prompt_template_social,\n",
    "    \"model_used\": model_openai,\n",
    "    }, \n",
    "config)\n",
    "print(output_lawyer[\"messages\"][-1].content)"
   ]
  },
  {
   "cell_type": "code",
   "execution_count": 9,
   "metadata": {},
   "outputs": [
    {
     "name": "stdout",
     "output_type": "stream",
     "text": [
      "The experts have provided the following information:  Expert 1: Hola Ana,\n",
      "\n",
      "La **EU AI Act** o **Reglamento de Inteligencia Artificial de la Unión Europea** es un proyecto legislativo propuesto por la Comisión Europea con el objetivo de regular el uso y desarrollo de la inteligencia artificial (IA) dentro de los Estados miembros de la UE. A continuación, se presentan los aspectos más relevantes de este reglamento:\n",
      "\n",
      "### 1. **Objetivo del Reglamento**\n",
      "El principal objetivo del EU AI Act es garantizar que la inteligencia artificial sea utilizada de manera Expert 2: ¡Hola Ana! La EU AI Act es una regulación propuesta por la Unión Europea que busca regular el uso y desarrollo de la inteligencia artificial (IA) en el continente. Esta ley pretende establecer un marco legal que garantice que los sistemas de IA sean seguros, transparentes y respeten los derechos fundamentales de las personas.\n",
      "\n",
      "### Principales objetivos de la EU AI Act:\n",
      "\n",
      "1. **Clasificación de la IA**: La norma clasifica los sistemas de IA en diferentes niveles de riesgo: \n",
      "\n",
      "  \n",
      "        The summary of the information is: content='### Resumen sobre el EU AI Act\\n\\nEl **EU AI Act** o **Reglamento de Inteligencia Artificial de la Unión Europea** es una propuesta legislativa desarrollada por la Comisión Europea con el propósito de regular el uso y desarrollo de la inteligencia artificial (IA) en los Estados miembros de la UE. A continuación, se destacan los aspectos clave de esta regulación:\\n\\n#### 1. **Objetivo Principal**\\nEl reglamento tiene como objetivo principal asegurar que la IA sea utilizada de manera' additional_kwargs={'refusal': None} response_metadata={'token_usage': {'completion_tokens': 100, 'prompt_tokens': 407, 'total_tokens': 507, 'completion_tokens_details': {'accepted_prediction_tokens': 0, 'audio_tokens': 0, 'reasoning_tokens': 0, 'rejected_prediction_tokens': 0}, 'prompt_tokens_details': {'audio_tokens': 0, 'cached_tokens': 0}}, 'model_name': 'gpt-4o-mini-2024-07-18', 'system_fingerprint': 'fp_bd83329f63', 'finish_reason': 'length', 'logprobs': None} id='run-9c1a5ebf-4256-4d6f-9ef7-2ee6a0422a0d-0' usage_metadata={'input_tokens': 407, 'output_tokens': 100, 'total_tokens': 507, 'input_token_details': {'audio': 0, 'cache_read': 0}, 'output_token_details': {'audio': 0, 'reasoning': 0}}\n",
      "    \n"
     ]
    }
   ],
   "source": [
    "input_summarizer = [HumanMessage('Sintetiza los inputs de los expertos')]\n",
    "\n",
    "output_summarizer = create_graph(SummarizerState, call_second_layer_model).invoke({\n",
    "    \"messages\": input_summarizer, \n",
    "    \"language\": language,\n",
    "    \"prompt_template\": prompt_template_summarizer,\n",
    "    \"model_used\": model_openai,\n",
    "    \"output_experts\": [output_lawyer, output_social],\n",
    "    }, \n",
    "config)\n",
    "print(output_summarizer[\"messages\"][-1].content)"
   ]
  },
  {
   "cell_type": "code",
   "execution_count": null,
   "metadata": {},
   "outputs": [],
   "source": []
  }
 ],
 "metadata": {
  "kernelspec": {
   "display_name": "ai-wise-council-U8tERo2L-py3.12",
   "language": "python",
   "name": "python3"
  },
  "language_info": {
   "codemirror_mode": {
    "name": "ipython",
    "version": 3
   },
   "file_extension": ".py",
   "mimetype": "text/x-python",
   "name": "python",
   "nbconvert_exporter": "python",
   "pygments_lexer": "ipython3",
   "version": "3.12.6"
  }
 },
 "nbformat": 4,
 "nbformat_minor": 2
}
